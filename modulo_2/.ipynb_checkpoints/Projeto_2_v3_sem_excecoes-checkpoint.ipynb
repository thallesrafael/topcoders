{
 "cells": [
  {
   "cell_type": "markdown",
   "id": "a8ab821c",
   "metadata": {},
   "source": [
    "Enunciado\n",
    "Para implementar o programa abaixo, tente empregar técnicas estudadas no módulo atual quando possível: tratamento de strings, manipulação de arquivos utilizando as bibliotecas auxiliares estudadas (csv e json), tratamento de exceção, diferentes formatos de parâmetro de função, compreensão de listas e/ou geradores, funções de alta ordem e lambda. Apesar de ser possível resolver boa parte dos problemas utilizando loops e técnicas do módulo anterior, você deixará de treinar os novos conceitos e perderá a oportunidade de receber feedback adequado sobre o seu aprendizado deste módulo.\n",
    "\n",
    "Uma grande dificuldade de muitos músicos de garagem é encontrar outros músicos que toquem instrumentos diferentes, possuam gostos semelhantes e disponibilidade para formar conjuntos.\n",
    "\n",
    "Vamos fazer um sistema para auxiliar na formação de bandas online! Em seu menu principal, o programa deverá oferecer as seguintes funcionalidades:\n",
    "\n",
    "Cadastrar músicos\n",
    "\n",
    "Buscar músicos\n",
    "\n",
    "Modificar músicos\n",
    "\n",
    "Montar bandas\n",
    "\n",
    "Sair\n",
    "\n",
    "No cadastro devem ser digitadas as seguintes informações:\n",
    "\n",
    "Nome (string contendo apenas letras e espaço)\n",
    "E-mail (string contendo apenas letras, underscore (_), ponto (.), dígitos numéricos e, obrigatoriamente, exatamente 1 arroba (@))\n",
    "\n",
    "Gêneros musicais (mínimo 1, usuário pode digitar quantos forem necessários)\n",
    "\n",
    "Instrumentos (mínimo 1, usuário pode digitar quantos forem necessários)\n",
    "\n",
    "As entradas devem ser validadas seguindo as regras. O e-mail deve ser único: se ele já existe, o cadastro não deve ser concluído.\n",
    "\n",
    "DICA: padronize suas strings na hora de salvar em sua base para evitar que buscas sejam prejudicadas por divergências de maiúsculas e minúsculas.\n",
    "\n",
    "Na busca o usuário deve passar pelo menos 1 das opções: nome, e-mail, gênero (digitar apenas 1) ou instrumento (digitar apenas 1). O usuário deve selecionar se os resultados devem bater com todas as informações digitadas ou pelo menos uma (ex: se o usuário digitar nome e instrumento, a busca pode ser por resultados contendo o nome E o instrumento vs o nome OU o instrumento).\n",
    "\n",
    "Na modificação de um usuário, será feita uma busca especificamente por e-mail. É permitido adicionar ou remover gêneros e instrumentos. Não é permitido mudar nome ou e-mail.\n",
    "\n",
    "Na opção de montar bandas, o usuário deverá informar o número desejado de músicos, o instrumento de cada um dos músicos (1 por músico) e 1 gênero. O programa deverá exibir na tela todas as combinações possíveis de músicos (e-mail + instrumento).\n",
    "\n",
    "Ex: suponha que para o gênero 'heavy metal' a gente tenha os músicos ana@letscode.com.br (bateria), bruno@letscode.com.br (guitarra), carol@letscode.com.br (guitarra), danilo@letscode.com.br (baixo) e erasmo@letscode.com.br (baixo) e a busca seja:\n",
    "\n",
    "Gênero: heavy metal\n",
    "Quantidade: 3\n",
    "Instrumento 1: guitarra\n",
    "Instrumento 2: bateria\n",
    "Instrumento 3: baixo\n",
    "A saída mostraria as seguintes combinações:\n",
    "\n",
    "(bruno@letscode.com.br, guitarra) + (ana@letscode.com.br, bateria) + (danilo@letscode.com.br, baixo)\n",
    "\n",
    "(bruno@letscode.com.br, guitarra) + (ana@letscode.com.br, bateria) + (erasmo@letscode.com.br, baixo)\n",
    "\n",
    "(carol@letscode.com.br, guitarra) + (ana@letscode.com.br, bateria) + (danilo@letscode.com.br, baixo)\n",
    "\n",
    "(carol@letscode.com.br, guitarra) + (ana@letscode.com.br, bateria) + (erasmo@letscode.com.br, baixo)\n",
    "A formatação para exibir esse resultado fica a seu critério.\n",
    "\n",
    "O seu programa deverá salvar todos os dados em formato de sua preferência para consulta posterior: JSON ou CSV.\n",
    "\n",
    "Caso opte por CSV, ele terá as colunas nome, e-mail, instrumentos (escreva os dados em formato de lista) e gêneros (escreva os dados em formato de lista). Ex:"
   ]
  },
  {
   "cell_type": "markdown",
   "id": "f5e1c7bd",
   "metadata": {},
   "source": [
    "import json\n",
    "\n",
    "with open('dados.json', 'w') as arquivo:\n",
    "    cabecalhos = csv.writer(arquivo, delimiter = ';', lineterminator = '\\n')\n",
    "    cabecalhos.writerow(['nome', 'email', 'generos', 'instrumentos'])"
   ]
  },
  {
   "cell_type": "code",
   "execution_count": 19,
   "id": "eccbcbca",
   "metadata": {},
   "outputs": [],
   "source": [
    "class EmailJaCadastrado(Exception):\n",
    "    def __init__(self, message = 'Esse e-mail já está cadastrado!'):\n",
    "        self.message = message\n",
    "        super().__init__(self.message)"
   ]
  },
  {
   "cell_type": "code",
   "execution_count": null,
   "id": "1140c57c",
   "metadata": {},
   "outputs": [],
   "source": [
    "class EmailInvalido(Exception):\n",
    "    def __init__(self, message = 'E-mail informado inválido!'):\n",
    "        self.message = message\n",
    "        super().__init__(self.message)"
   ]
  },
  {
   "cell_type": "code",
   "execution_count": null,
   "id": "65a9f4ec",
   "metadata": {},
   "outputs": [],
   "source": [
    "class NomeInvalido(Exception):\n",
    "    def __init__(self, message = 'Nome informado inválido!'):\n",
    "        self.message = message\n",
    "        super().__init__(self.message)"
   ]
  },
  {
   "cell_type": "code",
   "execution_count": 1,
   "id": "bfca3249",
   "metadata": {},
   "outputs": [],
   "source": [
    "def valida_nome(nome: str) -> bool:\n",
    "    return nome.replace(\" \", \"\").isalpha()"
   ]
  },
  {
   "cell_type": "code",
   "execution_count": null,
   "id": "fbdac4f8",
   "metadata": {},
   "outputs": [],
   "source": [
    "def valida_nome(nome: str):\n",
    "    if not nome.replace(\" \", \"\").isalpha():\n",
    "        raise NomeInvalido()"
   ]
  },
  {
   "cell_type": "code",
   "execution_count": 2,
   "id": "e0a2d6ac",
   "metadata": {},
   "outputs": [],
   "source": [
    "def valida_email(email: str) -> bool:\n",
    "    return (email.count('@') == 1 and email.replace(\"@\", 'a').replace('.', 'a').replace(\"_\", 'a').isalnum())"
   ]
  },
  {
   "cell_type": "code",
   "execution_count": 3,
   "id": "47d37021",
   "metadata": {},
   "outputs": [],
   "source": [
    "import json\n",
    "def existe_email_na_base(registros, email: str) -> list:\n",
    "    return list(filter(lambda x: x['email'] == email, registros['musicos']))"
   ]
  },
  {
   "cell_type": "code",
   "execution_count": 4,
   "id": "29791873",
   "metadata": {},
   "outputs": [],
   "source": [
    "def padroniza_listas(lista: list) -> list:\n",
    "    return [elemento.title() for elemento in lista]"
   ]
  },
  {
   "cell_type": "markdown",
   "id": "128cf760",
   "metadata": {},
   "source": [
    "def padroniza_listas2(lista: list) -> list:\n",
    "    return list(map(lambda x: x.title(), lista))"
   ]
  },
  {
   "cell_type": "code",
   "execution_count": null,
   "id": "082ae7ba",
   "metadata": {},
   "outputs": [],
   "source": [
    "def valida_email() -> str:\n",
    "    "
   ]
  },
  {
   "cell_type": "code",
   "execution_count": 5,
   "id": "c5f198fb",
   "metadata": {},
   "outputs": [],
   "source": [
    "def validacoes_gerais(registros: dict) -> dict:\n",
    "    try:\n",
    "        email = input(\"Digite seu e-mail: \").lower()\n",
    "        if existe_email_na_base(registros, email):\n",
    "            print(\"\\nJá existe usuário registrado com esse e-mail\\n\")\n",
    "            raise Exception(\"Já existe usuário registrado com esse e-mail\")\n",
    "        if not valida_email(email):\n",
    "            print(f\"\\nEmail '{email}' inválido!\\n\")\n",
    "            raise Exception(f\"Email '{email}' inválido!\")\n",
    "\n",
    "        nome = input(\"Digite seu nome: \").title()\n",
    "        if not valida_nome(nome):\n",
    "            print(f\"Nome {nome} inválido. Por favor, insira apenas letras e espaços.\")\n",
    "            raise Exception(f\"Nome {nome} inválido. Por favor, insira apenas letras e espaços.\")\n",
    "        \n",
    "        generos = pede_lista(mensagem = \"Digite os gêneros musicais de sua preferencia\")\n",
    "        \n",
    "        instrumentos = pede_lista(mensagem = \"Digite os intrumentos que você toca (pressione enter caso tenha terminado)\")\n",
    "        \n",
    "\n",
    "        print(\"\\nInformações: \\n\",\n",
    "             f\"{'Nome':<30}: {nome}\\n\",\n",
    "             f'{\"E-mail\":<30}: {email}\\n',\n",
    "             f'{\"Gêneros musicais\":<30}: {str(generos)[1:-1]}\\n',\n",
    "             f\"{'Instrumentos':<30}: {str(instrumentos)[1:-1]}\")\n",
    "\n",
    "        registros = cadastra_na_base(registros, nome, email, generos, instrumentos)\n",
    "\n",
    "        return registros\n",
    "\n",
    "    except:\n",
    "        print(\"Não foi possível concluir o cadastro.\\n\")"
   ]
  },
  {
   "cell_type": "code",
   "execution_count": null,
   "id": "ad9a741c",
   "metadata": {},
   "outputs": [],
   "source": [
    "def pede_lista(mensagem: str) -> list:\n",
    "    lista = []\n",
    "    print(mensagem, end = '\\n\\n\\')\n",
    "    item = input()\n",
    "    while item != \"\":\n",
    "        lista.append(item)\n",
    "        lista = input()\n",
    "\n",
    "    if not lista:\n",
    "        print(\"Digite ao menos um item\")\n",
    "        raise Exception(\"Digite ao menos um item\")"
   ]
  },
  {
   "cell_type": "code",
   "execution_count": 6,
   "id": "c3011284",
   "metadata": {},
   "outputs": [],
   "source": [
    "def cadastra_na_base(registros: dict, nome: str, email: str, generos: list, instrumentos: list) -> dict:\n",
    "    generos = padroniza_listas(generos)\n",
    "    instrumentos = padroniza_listas(instrumentos)\n",
    "    novo_registro = {'nome': nome, 'email': email, 'generos': generos, 'instrumentos': instrumentos}\n",
    "    registros['musicos'].append(novo_registro)\n",
    "        \n",
    "    print('\\nCadastro efetuado com sucesso!')\n",
    "    \n",
    "    return registros"
   ]
  },
  {
   "cell_type": "code",
   "execution_count": 7,
   "id": "b5776076",
   "metadata": {},
   "outputs": [],
   "source": [
    "def abre_ou_cria_arquivo(nome_do_arquivo: str) -> dict:\n",
    "    try:\n",
    "        with open(nome_do_arquivo, 'r', encoding = 'utf-8') as arquivo:\n",
    "            registros = json.load(arquivo)\n",
    "            \n",
    "    except FileNotFoundError:\n",
    "        print(f'\\nCriando nova base: \"{nome_do_arquivo[:-5]}\"')\n",
    "        with open(nome_do_arquivo, 'w', encoding = 'utf-8') as arquivo:\n",
    "            registros = {'musicos': []}\n",
    "    \n",
    "    return registros"
   ]
  },
  {
   "cell_type": "code",
   "execution_count": 8,
   "id": "89ae5cca",
   "metadata": {},
   "outputs": [],
   "source": [
    "def filtra_dados(dicionario: dict, filtro_nome: str = \"\", filtro_email: str = \"\", filtro_instrumento: str = \"\", filtro_genero: str = \"\", condicional: str = '1') -> bool:\n",
    "        condicao1 = dicionario['nome'] == filtro_nome if filtro_nome != \"\" else \"\"\n",
    "        condicao2  = dicionario['email'] == filtro_email if filtro_email != \"\" else \"\"\n",
    "        condicao3 = filtro_instrumento in dicionario['instrumentos'] if filtro_instrumento != \"\" else \"\"\n",
    "        condicao4 = filtro_genero in dicionario['generos'] if filtro_genero != \"\" else \"\"\n",
    "        \n",
    "        \n",
    "        if condicional == '1':\n",
    "            condicoes_validas = [condicao for condicao in [condicao1, condicao2, condicao3, condicao4] if (condicao != \"\")]\n",
    "            return (False not in condicoes_validas)\n",
    "        \n",
    "        elif condicional == '2':\n",
    "            return (condicao1 or condicao2 or condicao3 or condicao4)"
   ]
  },
  {
   "cell_type": "code",
   "execution_count": 9,
   "id": "84c2f9d4",
   "metadata": {},
   "outputs": [],
   "source": [
    "def gera_lista_filtrada(registros, dicionario: dict, filtro_nome: str = \"\", filtro_email: str = \"\", filtro_instrumento: str = \"\", filtro_genero: str = \"\", condicional: str = '1') -> list:\n",
    "    return list(filter(lambda x: filtra_dados(x, filtro_nome = filtro_nome, filtro_email = filtro_email,\n",
    "                                 filtro_instrumento = filtro_instrumento, filtro_genero = filtro_genero,\n",
    "                                 condicional = condicional), registros['musicos']))"
   ]
  },
  {
   "cell_type": "code",
   "execution_count": 11,
   "id": "cc04585d",
   "metadata": {},
   "outputs": [],
   "source": [
    "def buscar_musicos(registros: list) -> None:\n",
    "    print(\"Digite os filtros desejados para a busca (caso nao deseja incluir o filtro apresentado, pressioone [Enter])\")\n",
    "    filtro_nome = input(\"Nome: \").title()\n",
    "    filtro_email = input(\"E-mail: \").lower()\n",
    "    filtro_instrumento = input(\"Instrumento: \").title()\n",
    "    filtro_genero = input('Gênero musical: ').title()\n",
    "    \n",
    "    condicional = input(\"O resultado da busca deve atender:\\n\\t[1] - A todos os filtros\\n\\t[2] - A qualquer um deles:\\n\")\n",
    "    \n",
    "    while condicional not in ['1', '2']:\n",
    "        print('Condição inválida')\n",
    "        input(\"O resultado da busca deve atender:\\n\\t[1] - A todos os filtros\\n\\t[2] - A qualquer um deles:\\n\")\n",
    "\n",
    "    musicos_encontrados = gera_lista_filtrada(registros, filtro_nome = filtro_nome, filtro_email = filtro_email,\n",
    "                                 filtro_instrumento = filtro_instrumento, filtro_genero = filtro_genero,\n",
    "                                 condicional = condicional)\n",
    "    \n",
    "    apresenta_resultado_busca(musicos_encontrados)\n",
    "    \n",
    "\n",
    "# filtrados = buscar_musicos(planilha)"
   ]
  },
  {
   "cell_type": "code",
   "execution_count": 12,
   "id": "06cea3d3",
   "metadata": {},
   "outputs": [],
   "source": [
    "def apresenta_resultado_busca(filtrado: list) -> None:\n",
    "    print('-' * 55)\n",
    "    for musico in filtrado:\n",
    "        print(f'{\"Nome\":<30}: {musico[\"nome\"]}\\n',\n",
    "             f'{\"E-mail\":<30}: {musico[\"email\"]}\\n',\n",
    "             f'{\"Gêneros musicais\":<30}: {str(musico[\"generos\"])[1:-1]}\\n',\n",
    "             f\"{'Instrumentos':<30}: {str(musico['instrumentos'])[1:-1]}\\n\",\n",
    "             \"-\"*55, sep = \"\")"
   ]
  },
  {
   "cell_type": "code",
   "execution_count": 13,
   "id": "c349c461",
   "metadata": {},
   "outputs": [],
   "source": [
    "def escolhe_opcao() -> str:\n",
    "    print(\"\\nOque deseja fazer?\\nEscolha uma opção: \\n\",\n",
    "         \"[1] - Cadastrar músico\\n\",\n",
    "         \"[2] - Buscar músico\\n\",\n",
    "         \"[3] - Modificar cadastro\\n\",\n",
    "         \"[4] - Montar Bandas\\n\",\n",
    "         \"[0] = Sair\\n\")\n",
    "    return input()\n",
    "    "
   ]
  },
  {
   "cell_type": "code",
   "execution_count": null,
   "id": "69ae421f",
   "metadata": {},
   "outputs": [],
   "source": [
    "def modifica_lista(lista: list) -> list:\n",
    "    print(f'{\\n\"Os registros atuais são: \":<45}: {str(lista)[1:-1]}\\n')\n",
    "    "
   ]
  },
  {
   "cell_type": "code",
   "execution_count": 14,
   "id": "fe672217",
   "metadata": {},
   "outputs": [],
   "source": [
    "def modificar_cadastro(registros: list):\n",
    "    email = input(\"Digite o e-mail do cadastro a ser modificado: \")\n",
    "    if not existe_email(email):\n",
    "        print(f'Erro! Não existe o e-mail \"{email}\" cadastrado na base.')\n",
    "        return  \n",
    "    \n",
    "    cadastro_encontrado = gera_lista_filtrada(filtro_email = email)\n",
    "    apresenta_resultado_busca(cadastro_encontrado)\n",
    "    \n",
    "    print('\\nQual informação deseja alterar?\\n',\n",
    "         '[1] - Gêneros musicais\\n[2] - Instrumentos\\n', sep = \"\")\n",
    "    \n",
    "    alteracao_desejada = input()\n",
    "    while alteracao_desejada not in ['1', '2']:\n",
    "        print(\"Opção inválida!\\n\",\n",
    "             '\\nQual informação deseja alterar?\\n',\n",
    "         '[1] - Gêneros musicais\\n[2] - Instrumentos\\n', sep = \"\")\n",
    "        alteracao_desejada = input()\n",
    "        \n",
    "    \n",
    "        \n",
    "    \n",
    "    \n",
    "    \n",
    "#         print(\"Não existe e-mail na base cadastrada! Deseja cadastrá-lo agora?\")\n",
    "#         opcao = input(\"\\n[1] - Sim\\n[2] - Não\")\n",
    "#         while opcao not in ['1', '2']:\n",
    "#             opcao = input(\"Deseja cadastrar o email informado? \\n[1] - Sim\\n[2] - Não\")\n",
    "#         return"
   ]
  },
  {
   "cell_type": "code",
   "execution_count": 15,
   "id": "f7970f49",
   "metadata": {},
   "outputs": [],
   "source": [
    "def montar_banda():\n",
    "    pass"
   ]
  },
  {
   "cell_type": "code",
   "execution_count": 16,
   "id": "a0d216ca",
   "metadata": {},
   "outputs": [],
   "source": [
    "def menu(nome_do_arquivo: str) -> None:\n",
    "    print(\"Bem vindo ao vivamusica.com!!! Site que já ajudou a montar centenas de bandas pelo Brasil.\")\n",
    "    \n",
    "    registros = abre_ou_cria_arquivo(nome_do_arquivo)\n",
    "    \n",
    "    opcoes = {\n",
    "        \"1\": validacoes_gerais,\n",
    "        \"2\": buscar_musicos,\n",
    "        \"3\": modificar_cadastro,\n",
    "        \"4\": montar_banda\n",
    "    }\n",
    "    \n",
    "    opcao = \"\"\n",
    "    while opcao != \"0\":\n",
    "        opcao = escolhe_opcao()\n",
    "        \n",
    "        if opcao not in opcoes and opcao != \"0\":\n",
    "            print(\"Opção inválida!\")\n",
    "            continue\n",
    "    \n",
    "        elif opcao in ['1', '3']:\n",
    "             registro = opcoes[opcao](registros)\n",
    "                \n",
    "        elif opcao in ['2', '4']:\n",
    "            opcoes[opcao](registros)\n",
    "        \n",
    "    else:\n",
    "        with open(nome_do_arquivo, 'w') as arquivo:\n",
    "            arquivo.write(json.dumps(registros, indent = 4))\n",
    "            \n",
    "        print(\"\\nMuito obrigado por utilizar o vivamusica.com! Até a próxima.\")"
   ]
  },
  {
   "cell_type": "code",
   "execution_count": null,
   "id": "4fcc7a1b",
   "metadata": {},
   "outputs": [],
   "source": [
    "menu('teste.json')"
   ]
  },
  {
   "cell_type": "markdown",
   "id": "b4fbfe5b",
   "metadata": {},
   "source": [
    "##############################################################################################\n",
    "\n",
    "##############################################################################################"
   ]
  },
  {
   "cell_type": "code",
   "execution_count": null,
   "id": "7d7340a9",
   "metadata": {},
   "outputs": [],
   "source": [
    "clara = {'nome': 'Ana Clara', 'email': 'clara@gmail.com', 'generos': ['Pop', 'Samba'], 'instrumentos': ['Violão', 'Bateria']}\n",
    "thalles = {'nome': 'Thalles Rafael', 'email': 'thalles@gmail.com', 'generos': ['Pop', 'Samba'], 'instrumentos': ['Violão', 'Bateria']}\n",
    "pietro = {'nome': 'Pietro Felipe', 'email': 'pietro@gmail.com', 'generos': ['Rock', 'Sertanejo'], 'instrumentos': ['Baixo', 'Guitarra']}\n",
    "\n",
    "\n",
    "with open('teste.json', 'r+', encoding = 'utf-8') as exemplo:\n",
    "    planilha = json.load(exemplo)\n",
    "    planilha['musicos'].append(paulo)\n",
    "    exemplo.write(json.dumps(planilha))\n",
    "    "
   ]
  },
  {
   "cell_type": "code",
   "execution_count": null,
   "id": "0d63a197",
   "metadata": {},
   "outputs": [],
   "source": [
    "paulo = {'nome': 'Paulo Ferreira', 'email': 'paulo@gmail.com', 'generos': ['Pop', 'Rock'], 'instrumentos': ['Bateria', 'Violao']}"
   ]
  },
  {
   "cell_type": "code",
   "execution_count": null,
   "id": "1feef925",
   "metadata": {},
   "outputs": [],
   "source": [
    "with open('agoravai.json', 'r', encoding = 'utf-8') as exemplo:\n",
    "    planilha = json.load(exemplo)\n",
    "    \n",
    "print(planilha)\n",
    "planilha['musicos'].append(pietro)\n",
    "print(planilha)\n",
    "\n",
    "planilha['musicos'][0]['email']"
   ]
  },
  {
   "cell_type": "code",
   "execution_count": null,
   "id": "58077ee6",
   "metadata": {},
   "outputs": [],
   "source": [
    "with open('teste_copia.json', 'w+', encoding = 'utf-8') as exemplo:\n",
    "    planilha = json.load(exemplo)\n",
    "#     planilha['musicos'].append(paulo)\n",
    "#     exemplo.write(json.dumps(planilha))"
   ]
  },
  {
   "cell_type": "code",
   "execution_count": null,
   "id": "9b12336b",
   "metadata": {},
   "outputs": [],
   "source": [
    "with open('teste.json', 'r', encoding = 'utf-8') as exemplo:\n",
    "    planilha = json.load(exemplo)"
   ]
  },
  {
   "cell_type": "code",
   "execution_count": null,
   "id": "da0e6cc2",
   "metadata": {},
   "outputs": [],
   "source": [
    "planilha"
   ]
  },
  {
   "cell_type": "code",
   "execution_count": null,
   "id": "8fe1c295",
   "metadata": {},
   "outputs": [],
   "source": [
    "len(planilha['musicos'])"
   ]
  },
  {
   "cell_type": "code",
   "execution_count": null,
   "id": "512d55ff",
   "metadata": {},
   "outputs": [],
   "source": [
    "x = dict()\n",
    "x = list(filter(lambda x: 'Guitarra' in x['instrumentos'], planilha['musicos']))\n",
    "print(x)"
   ]
  },
  {
   "cell_type": "code",
   "execution_count": null,
   "id": "740a647d",
   "metadata": {},
   "outputs": [],
   "source": [
    "y = list(filter(lambda x: x['email'] == 'pietro@gmail.com', planilha['musicos']))\n",
    "y"
   ]
  },
  {
   "cell_type": "code",
   "execution_count": null,
   "id": "e63ba48d",
   "metadata": {},
   "outputs": [],
   "source": [
    "x | y"
   ]
  },
  {
   "cell_type": "code",
   "execution_count": null,
   "id": "16803114",
   "metadata": {},
   "outputs": [],
   "source": [
    "filtro_nome = input(\"Nome: \")\n",
    "filtro_email = input(\"E-mail: \")\n",
    "filtro_instrumento = input(\"Instrumento: \")\n",
    "filtro_genero = input('Gênero musical: ')\n",
    "    \n",
    "filtros = [x for x in [filtro_nome, filtro_email, filtro_instrumento, filtro_genero]]\n",
    "print(filtros)"
   ]
  },
  {
   "cell_type": "code",
   "execution_count": 17,
   "id": "091cae07",
   "metadata": {},
   "outputs": [],
   "source": [
    "def funcao2():\n",
    "    raise Exception"
   ]
  },
  {
   "cell_type": "code",
   "execution_count": 18,
   "id": "db76bcb0",
   "metadata": {},
   "outputs": [
    {
     "name": "stdout",
     "output_type": "stream",
     "text": [
      "funcionou\n"
     ]
    }
   ],
   "source": [
    "def funcao1():\n",
    "    try:\n",
    "        funcao2()\n",
    "    except:\n",
    "        print('funcionou')\n",
    "        \n",
    "funcao1()"
   ]
  },
  {
   "cell_type": "markdown",
   "id": "8fd970b8",
   "metadata": {},
   "source": [
    "## Teste"
   ]
  },
  {
   "cell_type": "markdown",
   "id": "03c1c61c",
   "metadata": {},
   "source": [
    "#####################################################"
   ]
  }
 ],
 "metadata": {
  "kernelspec": {
   "display_name": "Python 3 (ipykernel)",
   "language": "python",
   "name": "python3"
  },
  "language_info": {
   "codemirror_mode": {
    "name": "ipython",
    "version": 3
   },
   "file_extension": ".py",
   "mimetype": "text/x-python",
   "name": "python",
   "nbconvert_exporter": "python",
   "pygments_lexer": "ipython3",
   "version": "3.9.7"
  }
 },
 "nbformat": 4,
 "nbformat_minor": 5
}
