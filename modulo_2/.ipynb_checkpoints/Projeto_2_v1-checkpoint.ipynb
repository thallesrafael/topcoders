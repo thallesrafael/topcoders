{
 "cells": [
  {
   "cell_type": "markdown",
   "id": "a8ab821c",
   "metadata": {},
   "source": [
    "Enunciado\n",
    "Para implementar o programa abaixo, tente empregar técnicas estudadas no módulo atual quando possível: tratamento de strings, manipulação de arquivos utilizando as bibliotecas auxiliares estudadas (csv e json), tratamento de exceção, diferentes formatos de parâmetro de função, compreensão de listas e/ou geradores, funções de alta ordem e lambda. Apesar de ser possível resolver boa parte dos problemas utilizando loops e técnicas do módulo anterior, você deixará de treinar os novos conceitos e perderá a oportunidade de receber feedback adequado sobre o seu aprendizado deste módulo.\n",
    "\n",
    "Uma grande dificuldade de muitos músicos de garagem é encontrar outros músicos que toquem instrumentos diferentes, possuam gostos semelhantes e disponibilidade para formar conjuntos.\n",
    "\n",
    "Vamos fazer um sistema para auxiliar na formação de bandas online! Em seu menu principal, o programa deverá oferecer as seguintes funcionalidades:\n",
    "\n",
    "Cadastrar músicos\n",
    "\n",
    "Buscar músicos\n",
    "\n",
    "Modificar músicos\n",
    "\n",
    "Montar bandas\n",
    "\n",
    "Sair\n",
    "\n",
    "No cadastro devem ser digitadas as seguintes informações:\n",
    "\n",
    "Nome (string contendo apenas letras e espaço)\n",
    "E-mail (string contendo apenas letras, underscore (_), ponto (.), dígitos numéricos e, obrigatoriamente, exatamente 1 arroba (@))\n",
    "\n",
    "Gêneros musicais (mínimo 1, usuário pode digitar quantos forem necessários)\n",
    "\n",
    "Instrumentos (mínimo 1, usuário pode digitar quantos forem necessários)\n",
    "\n",
    "As entradas devem ser validadas seguindo as regras. O e-mail deve ser único: se ele já existe, o cadastro não deve ser concluído.\n",
    "\n",
    "DICA: padronize suas strings na hora de salvar em sua base para evitar que buscas sejam prejudicadas por divergências de maiúsculas e minúsculas.\n",
    "\n",
    "Na busca o usuário deve passar pelo menos 1 das opções: nome, e-mail, gênero (digitar apenas 1) ou instrumento (digitar apenas 1). O usuário deve selecionar se os resultados devem bater com todas as informações digitadas ou pelo menos uma (ex: se o usuário digitar nome e instrumento, a busca pode ser por resultados contendo o nome E o instrumento vs o nome OU o instrumento).\n",
    "\n",
    "Na modificação de um usuário, será feita uma busca especificamente por e-mail. É permitido adicionar ou remover gêneros e instrumentos. Não é permitido mudar nome ou e-mail.\n",
    "\n",
    "Na opção de montar bandas, o usuário deverá informar o número desejado de músicos, o instrumento de cada um dos músicos (1 por músico) e 1 gênero. O programa deverá exibir na tela todas as combinações possíveis de músicos (e-mail + instrumento).\n",
    "\n",
    "Ex: suponha que para o gênero 'heavy metal' a gente tenha os músicos ana@letscode.com.br (bateria), bruno@letscode.com.br (guitarra), carol@letscode.com.br (guitarra), danilo@letscode.com.br (baixo) e erasmo@letscode.com.br (baixo) e a busca seja:\n",
    "\n",
    "Gênero: heavy metal\n",
    "Quantidade: 3\n",
    "Instrumento 1: guitarra\n",
    "Instrumento 2: bateria\n",
    "Instrumento 3: baixo\n",
    "A saída mostraria as seguintes combinações:\n",
    "\n",
    "(bruno@letscode.com.br, guitarra) + (ana@letscode.com.br, bateria) + (danilo@letscode.com.br, baixo)\n",
    "\n",
    "(bruno@letscode.com.br, guitarra) + (ana@letscode.com.br, bateria) + (erasmo@letscode.com.br, baixo)\n",
    "\n",
    "(carol@letscode.com.br, guitarra) + (ana@letscode.com.br, bateria) + (danilo@letscode.com.br, baixo)\n",
    "\n",
    "(carol@letscode.com.br, guitarra) + (ana@letscode.com.br, bateria) + (erasmo@letscode.com.br, baixo)\n",
    "A formatação para exibir esse resultado fica a seu critério.\n",
    "\n",
    "O seu programa deverá salvar todos os dados em formato de sua preferência para consulta posterior: JSON ou CSV.\n",
    "\n",
    "Caso opte por CSV, ele terá as colunas nome, e-mail, instrumentos (escreva os dados em formato de lista) e gêneros (escreva os dados em formato de lista). Ex:"
   ]
  },
  {
   "cell_type": "markdown",
   "id": "5353752d",
   "metadata": {},
   "source": [
    "import csv\n",
    "\n",
    "with open('cadastro.csv', 'w') as arquivo:\n",
    "    cabecalhos = csv.writer(arquivo, delimiter = ';', lineterminator = '\\n')\n",
    "    cabecalhos.writerow(['nome', 'email', 'generos', 'instrumentos'])"
   ]
  },
  {
   "cell_type": "code",
   "execution_count": 31,
   "id": "bfca3249",
   "metadata": {},
   "outputs": [],
   "source": [
    "def valida_nome(nome: str) -> bool:\n",
    "    return nome.replace(\" \", \"\").isalpha()"
   ]
  },
  {
   "cell_type": "code",
   "execution_count": 32,
   "id": "e0a2d6ac",
   "metadata": {},
   "outputs": [],
   "source": [
    "def valida_email(email: str) -> bool:\n",
    "    return (email.count('@') == 1 and email.replace(\"@\", 'a').replace('.', 'a').replace(\"_\", 'a').isalnum())"
   ]
  },
  {
   "cell_type": "code",
   "execution_count": 33,
   "id": "47d37021",
   "metadata": {},
   "outputs": [],
   "source": [
    "import csv\n",
    "def existe_email_na_base(base, email: str) -> bool:\n",
    "    with open(base, 'r') as arquivo:\n",
    "        planilha = csv.reader(arquivo, delimiter=';', lineterminator='\\n')\n",
    "        return list(filter(lambda x: x[1] == email, planilha))\n",
    "#         existe = False\n",
    "#         for registro in planilha:\n",
    "#             if registro[1] == email:\n",
    "#                 existe = True"
   ]
  },
  {
   "cell_type": "code",
   "execution_count": 34,
   "id": "29791873",
   "metadata": {},
   "outputs": [],
   "source": [
    "def padroniza_listas(lista: list) -> list:\n",
    "    return [elemento.title() for elemento in lista]"
   ]
  },
  {
   "cell_type": "code",
   "execution_count": 35,
   "id": "61609f10",
   "metadata": {},
   "outputs": [],
   "source": [
    "def padroniza_listas2(lista: list) -> list:\n",
    "    return list(map(lambda x: x.title(), lista))"
   ]
  },
  {
   "cell_type": "code",
   "execution_count": 36,
   "id": "1db2fa49",
   "metadata": {},
   "outputs": [
    {
     "data": {
      "text/plain": [
       "['Pop', 'Rock', 'Jazz']"
      ]
     },
     "execution_count": 36,
     "metadata": {},
     "output_type": "execute_result"
    }
   ],
   "source": [
    "padroniza_listas(['pop', 'rock', 'jazz'])"
   ]
  },
  {
   "cell_type": "code",
   "execution_count": 37,
   "id": "c5f198fb",
   "metadata": {},
   "outputs": [],
   "source": [
    "def validacoes_gerais(base):\n",
    "    try:\n",
    "        email = input(\"Digite seu e-mail: \").lower()\n",
    "        if existe_email_na_base('cadastro.csv', email):\n",
    "            print(\"\\nJá existe usuário registrado com esse e-mail\\n\")\n",
    "            raise Exception(\"Já existe usuário registrado com esse e-mail\")\n",
    "        if not valida_email(email):\n",
    "            print(f\"\\nEmail '{email}' inválido!\\n\")\n",
    "            raise Exception(f\"Email '{email}' inválido!\")\n",
    "\n",
    "        nome = input(\"Digite seu nome: \").title()\n",
    "        if not valida_nome(nome):\n",
    "            print(f\"Nome {nome} inválido. Por favor, insira apenas letras e espaços.\")\n",
    "            raise Exception(f\"Nome {nome} inválido. Por favor, insira apenas letras e espaços.\")\n",
    "\n",
    "        generos = []\n",
    "        print(\"Digite os gêneros musicais de sua preferencia (pressione enter caso tenha terminado)\\n\")\n",
    "        genero = input()\n",
    "        while genero != \"\":\n",
    "            generos.append(genero)\n",
    "            genero = input()\n",
    "\n",
    "        if not generos:\n",
    "            print(\"Digite ao menos um gênero musical\")\n",
    "            raise Exception(\"Digite ao menos um gênero musical\")\n",
    "\n",
    "        instrumentos = []\n",
    "        print(\"Digite os intrumentos que você toca (pressione enter caso tenha terminado)\\n\")\n",
    "        instrumento = input()\n",
    "        while instrumento != \"\":\n",
    "            instrumentos.append(instrumento)\n",
    "            instrumento = input()\n",
    "\n",
    "        if not instrumentos:\n",
    "            print(\"Digite ao menos um instrumento\")\n",
    "            raise Exception(\"Digite ao menos um instrumento\")\n",
    "            \n",
    "        print(\"\\nnformações: \\n\",\n",
    "             f\"Nome:\\t{nome}\\n\",\n",
    "             f'E-mail:\\t{email}\\n',\n",
    "             f'Gêneros musicais:\\t{}')\n",
    "\n",
    "        cadastro(base, nome, email, generos, instrumentos)\n",
    "            \n",
    "    except:\n",
    "        print(\"Não foi possível concluir o cadastro.\\n\")\n",
    "        menu(base)\n",
    "        "
   ]
  },
  {
   "cell_type": "code",
   "execution_count": 38,
   "id": "d707fd6a",
   "metadata": {},
   "outputs": [],
   "source": [
    "def cadastro(base: str, nome: str, email: str, generos: list, instrumentos: list) -> None:\n",
    "    generos = padroniza_listas(generos)\n",
    "    instrumentos = padroniza_listas(instrumentos)\n",
    "    novo_registro = [nome, email, generos, instrumentos]\n",
    "    with open(base, 'a') as arquivo:\n",
    "        registrador = csv.writer(arquivo, delimiter=';', lineterminator='\\n')\n",
    "        registrador.writerow(novo_registro)\n",
    "        \n",
    "    print('\\nCadastro efetuado com sucesso!')"
   ]
  },
  {
   "cell_type": "code",
   "execution_count": 39,
   "id": "cc04585d",
   "metadata": {},
   "outputs": [],
   "source": [
    "def buscar_musico():\n",
    "    print(\" Digite os filtros desejados para a busca (caso nao deseja incluir o filtro apresentado, pressioone [Enter])\")"
   ]
  },
  {
   "cell_type": "code",
   "execution_count": 40,
   "id": "c349c461",
   "metadata": {},
   "outputs": [],
   "source": [
    "def escolhe_opcao() -> str:\n",
    "    print(\"\\nOque deseja fazer?\\nEscolha uma opção: \\n\",\n",
    "         \"[1] - Cadastrar músico\\n\",\n",
    "         \"[2] - Buscar músico\\n\",\n",
    "         \"[3] - Modificar cadastro\\n\",\n",
    "         \"[4] - Montar Bandas\\n\",\n",
    "         \"[0] = Sair\\n\")\n",
    "    return input()\n",
    "    "
   ]
  },
  {
   "cell_type": "code",
   "execution_count": 41,
   "id": "fe672217",
   "metadata": {},
   "outputs": [],
   "source": [
    "def modificar_cadastro():\n",
    "    pass"
   ]
  },
  {
   "cell_type": "code",
   "execution_count": 42,
   "id": "f7970f49",
   "metadata": {},
   "outputs": [],
   "source": [
    "def montar_banda():\n",
    "    pass"
   ]
  },
  {
   "cell_type": "code",
   "execution_count": 43,
   "id": "a0d216ca",
   "metadata": {},
   "outputs": [],
   "source": [
    "def menu(base):\n",
    "    print(\"Bem vindo ao vivamusica.com!!! Site que já ajudou a montar centenas de bandas pelo Brasil.\")\n",
    "    \n",
    "    opcoes = {\n",
    "        \"1\": validacoes_gerais,\n",
    "        \"2\": buscar_musico,\n",
    "        \"3\": modificar_cadastro,\n",
    "        \"4\": montar_banda\n",
    "    }\n",
    "    \n",
    "    opcao = \"\"\n",
    "    while opcao != \"0\":\n",
    "        opcao = escolhe_opcao()\n",
    "        \n",
    "        if opcao not in opcoes:\n",
    "            print(\"Opção inválida!\")\n",
    "            opcao = escolhe_opcao()\n",
    "            continue\n",
    "    \n",
    "        if opcao == \"1\":\n",
    "            validacoes_gerais(base)\n",
    "        \n",
    "        \n",
    "    else:\n",
    "        print(\"\\nMuito obrigado por utilizar o vivamusica.com! Até a próxima.\")"
   ]
  },
  {
   "cell_type": "code",
   "execution_count": 30,
   "id": "4fcc7a1b",
   "metadata": {},
   "outputs": [
    {
     "name": "stdout",
     "output_type": "stream",
     "text": [
      "Bem vindo ao vivamusica.com!!! Site que já ajudou a montar centenas de bandas pelo Brasil.\n",
      "\n",
      "Oque deseja fazer?\n",
      "Escolha uma opção: \n",
      " [1] - Cadastrar músico\n",
      " [2] - Buscar músico\n",
      " [3] - Modificar cadastro\n",
      " [4] - Montar Bandas\n",
      " [0] = Sair\n",
      "\n",
      "1\n",
      "Digite seu e-mail: anaclaraap66@gmail.com\n",
      "Digite seu nome: ana clara\n",
      "Digite os gêneros musicais de sua preferencia (pressione enter caso tenha terminado)\n",
      "\n",
      "sertanejo\n",
      "funk\n",
      "\n",
      "Digite os intrumentos que você toca (pressione enter caso tenha terminado)\n",
      "\n",
      "violao\n",
      "baixo\n",
      "\n",
      "Não foi possível concluir o cadastro.\n",
      "\n",
      "Bem vindo ao vivamusica.com!!! Site que já ajudou a montar centenas de bandas pelo Brasil.\n",
      "\n",
      "Oque deseja fazer?\n",
      "Escolha uma opção: \n",
      " [1] - Cadastrar músico\n",
      " [2] - Buscar músico\n",
      " [3] - Modificar cadastro\n",
      " [4] - Montar Bandas\n",
      " [0] = Sair\n",
      "\n"
     ]
    },
    {
     "ename": "KeyboardInterrupt",
     "evalue": "Interrupted by user",
     "output_type": "error",
     "traceback": [
      "\u001b[1;31m---------------------------------------------------------------------------\u001b[0m",
      "\u001b[1;31mKeyboardInterrupt\u001b[0m                         Traceback (most recent call last)",
      "\u001b[1;32m~\\AppData\\Local\\Temp/ipykernel_17820/4059360184.py\u001b[0m in \u001b[0;36m<module>\u001b[1;34m\u001b[0m\n\u001b[1;32m----> 1\u001b[1;33m \u001b[0mmenu\u001b[0m\u001b[1;33m(\u001b[0m\u001b[1;34m'cadastro.csv'\u001b[0m\u001b[1;33m)\u001b[0m\u001b[1;33m\u001b[0m\u001b[1;33m\u001b[0m\u001b[0m\n\u001b[0m",
      "\u001b[1;32m~\\AppData\\Local\\Temp/ipykernel_17820/564341892.py\u001b[0m in \u001b[0;36mmenu\u001b[1;34m(base)\u001b[0m\n\u001b[0;32m     17\u001b[0m \u001b[1;33m\u001b[0m\u001b[0m\n\u001b[0;32m     18\u001b[0m         \u001b[1;32mif\u001b[0m \u001b[0mopcao\u001b[0m \u001b[1;33m==\u001b[0m \u001b[1;34m\"1\"\u001b[0m\u001b[1;33m:\u001b[0m\u001b[1;33m\u001b[0m\u001b[1;33m\u001b[0m\u001b[0m\n\u001b[1;32m---> 19\u001b[1;33m             \u001b[0mvalidacoes_gerais\u001b[0m\u001b[1;33m(\u001b[0m\u001b[0mbase\u001b[0m\u001b[1;33m)\u001b[0m\u001b[1;33m\u001b[0m\u001b[1;33m\u001b[0m\u001b[0m\n\u001b[0m\u001b[0;32m     20\u001b[0m \u001b[1;33m\u001b[0m\u001b[0m\n\u001b[0;32m     21\u001b[0m \u001b[1;33m\u001b[0m\u001b[0m\n",
      "\u001b[1;32m~\\AppData\\Local\\Temp/ipykernel_17820/4243778491.py\u001b[0m in \u001b[0;36mvalidacoes_gerais\u001b[1;34m(base)\u001b[0m\n\u001b[0;32m     40\u001b[0m     \u001b[1;32mexcept\u001b[0m\u001b[1;33m:\u001b[0m\u001b[1;33m\u001b[0m\u001b[1;33m\u001b[0m\u001b[0m\n\u001b[0;32m     41\u001b[0m         \u001b[0mprint\u001b[0m\u001b[1;33m(\u001b[0m\u001b[1;34m\"Não foi possível concluir o cadastro.\\n\"\u001b[0m\u001b[1;33m)\u001b[0m\u001b[1;33m\u001b[0m\u001b[1;33m\u001b[0m\u001b[0m\n\u001b[1;32m---> 42\u001b[1;33m         \u001b[0mmenu\u001b[0m\u001b[1;33m(\u001b[0m\u001b[0mbase\u001b[0m\u001b[1;33m)\u001b[0m\u001b[1;33m\u001b[0m\u001b[1;33m\u001b[0m\u001b[0m\n\u001b[0m\u001b[0;32m     43\u001b[0m \u001b[1;33m\u001b[0m\u001b[0m\n",
      "\u001b[1;32m~\\AppData\\Local\\Temp/ipykernel_17820/564341892.py\u001b[0m in \u001b[0;36mmenu\u001b[1;34m(base)\u001b[0m\n\u001b[0;32m      9\u001b[0m     }\n\u001b[0;32m     10\u001b[0m \u001b[1;33m\u001b[0m\u001b[0m\n\u001b[1;32m---> 11\u001b[1;33m     \u001b[0mopcao\u001b[0m \u001b[1;33m=\u001b[0m \u001b[0mescolhe_opcao\u001b[0m\u001b[1;33m(\u001b[0m\u001b[1;33m)\u001b[0m\u001b[1;33m\u001b[0m\u001b[1;33m\u001b[0m\u001b[0m\n\u001b[0m\u001b[0;32m     12\u001b[0m     \u001b[1;32mwhile\u001b[0m \u001b[0mopcao\u001b[0m \u001b[1;33m!=\u001b[0m \u001b[1;34m\"0\"\u001b[0m\u001b[1;33m:\u001b[0m\u001b[1;33m\u001b[0m\u001b[1;33m\u001b[0m\u001b[0m\n\u001b[0;32m     13\u001b[0m         \u001b[1;32mif\u001b[0m \u001b[0mopcao\u001b[0m \u001b[1;32mnot\u001b[0m \u001b[1;32min\u001b[0m \u001b[0mopcoes\u001b[0m\u001b[1;33m:\u001b[0m\u001b[1;33m\u001b[0m\u001b[1;33m\u001b[0m\u001b[0m\n",
      "\u001b[1;32m~\\AppData\\Local\\Temp/ipykernel_17820/65821941.py\u001b[0m in \u001b[0;36mescolhe_opcao\u001b[1;34m()\u001b[0m\n\u001b[0;32m      6\u001b[0m          \u001b[1;34m\"[4] - Montar Bandas\\n\"\u001b[0m\u001b[1;33m,\u001b[0m\u001b[1;33m\u001b[0m\u001b[1;33m\u001b[0m\u001b[0m\n\u001b[0;32m      7\u001b[0m          \"[0] = Sair\\n\")\n\u001b[1;32m----> 8\u001b[1;33m     \u001b[1;32mreturn\u001b[0m \u001b[0minput\u001b[0m\u001b[1;33m(\u001b[0m\u001b[1;33m)\u001b[0m\u001b[1;33m\u001b[0m\u001b[1;33m\u001b[0m\u001b[0m\n\u001b[0m\u001b[0;32m      9\u001b[0m \u001b[1;33m\u001b[0m\u001b[0m\n",
      "\u001b[1;32m~\\anaconda3\\lib\\site-packages\\ipykernel\\kernelbase.py\u001b[0m in \u001b[0;36mraw_input\u001b[1;34m(self, prompt)\u001b[0m\n\u001b[0;32m   1004\u001b[0m                 \u001b[1;34m\"raw_input was called, but this frontend does not support input requests.\"\u001b[0m\u001b[1;33m\u001b[0m\u001b[1;33m\u001b[0m\u001b[0m\n\u001b[0;32m   1005\u001b[0m             )\n\u001b[1;32m-> 1006\u001b[1;33m         return self._input_request(\n\u001b[0m\u001b[0;32m   1007\u001b[0m             \u001b[0mstr\u001b[0m\u001b[1;33m(\u001b[0m\u001b[0mprompt\u001b[0m\u001b[1;33m)\u001b[0m\u001b[1;33m,\u001b[0m\u001b[1;33m\u001b[0m\u001b[1;33m\u001b[0m\u001b[0m\n\u001b[0;32m   1008\u001b[0m             \u001b[0mself\u001b[0m\u001b[1;33m.\u001b[0m\u001b[0m_parent_ident\u001b[0m\u001b[1;33m[\u001b[0m\u001b[1;34m\"shell\"\u001b[0m\u001b[1;33m]\u001b[0m\u001b[1;33m,\u001b[0m\u001b[1;33m\u001b[0m\u001b[1;33m\u001b[0m\u001b[0m\n",
      "\u001b[1;32m~\\anaconda3\\lib\\site-packages\\ipykernel\\kernelbase.py\u001b[0m in \u001b[0;36m_input_request\u001b[1;34m(self, prompt, ident, parent, password)\u001b[0m\n\u001b[0;32m   1049\u001b[0m             \u001b[1;32mexcept\u001b[0m \u001b[0mKeyboardInterrupt\u001b[0m\u001b[1;33m:\u001b[0m\u001b[1;33m\u001b[0m\u001b[1;33m\u001b[0m\u001b[0m\n\u001b[0;32m   1050\u001b[0m                 \u001b[1;31m# re-raise KeyboardInterrupt, to truncate traceback\u001b[0m\u001b[1;33m\u001b[0m\u001b[1;33m\u001b[0m\u001b[0m\n\u001b[1;32m-> 1051\u001b[1;33m                 \u001b[1;32mraise\u001b[0m \u001b[0mKeyboardInterrupt\u001b[0m\u001b[1;33m(\u001b[0m\u001b[1;34m\"Interrupted by user\"\u001b[0m\u001b[1;33m)\u001b[0m \u001b[1;32mfrom\u001b[0m \u001b[1;32mNone\u001b[0m\u001b[1;33m\u001b[0m\u001b[1;33m\u001b[0m\u001b[0m\n\u001b[0m\u001b[0;32m   1052\u001b[0m             \u001b[1;32mexcept\u001b[0m \u001b[0mException\u001b[0m\u001b[1;33m:\u001b[0m\u001b[1;33m\u001b[0m\u001b[1;33m\u001b[0m\u001b[0m\n\u001b[0;32m   1053\u001b[0m                 \u001b[0mself\u001b[0m\u001b[1;33m.\u001b[0m\u001b[0mlog\u001b[0m\u001b[1;33m.\u001b[0m\u001b[0mwarning\u001b[0m\u001b[1;33m(\u001b[0m\u001b[1;34m\"Invalid Message:\"\u001b[0m\u001b[1;33m,\u001b[0m \u001b[0mexc_info\u001b[0m\u001b[1;33m=\u001b[0m\u001b[1;32mTrue\u001b[0m\u001b[1;33m)\u001b[0m\u001b[1;33m\u001b[0m\u001b[1;33m\u001b[0m\u001b[0m\n",
      "\u001b[1;31mKeyboardInterrupt\u001b[0m: Interrupted by user"
     ]
    }
   ],
   "source": [
    "menu('cadastro.csv')"
   ]
  },
  {
   "cell_type": "code",
   "execution_count": 20,
   "id": "92e492c1",
   "metadata": {},
   "outputs": [
    {
     "data": {
      "text/plain": [
       "True"
      ]
     },
     "execution_count": 20,
     "metadata": {},
     "output_type": "execute_result"
    }
   ],
   "source": [
    "valida_nome('thalles rafael da silva correia')"
   ]
  },
  {
   "cell_type": "code",
   "execution_count": null,
   "id": "18655816",
   "metadata": {},
   "outputs": [],
   "source": [
    "cadastro('Thalles', 'thallesrafael2010@gmail.com', ['rock', 'pop'], ['guitarra', 'baixo'])"
   ]
  },
  {
   "cell_type": "code",
   "execution_count": null,
   "id": "558ac138",
   "metadata": {},
   "outputs": [],
   "source": [
    "cadastro('Thalles', 'thallesrafael2010@@+++=gmail.com', ['rock', 'pop'], ['guitarra', 'baixo'])"
   ]
  },
  {
   "cell_type": "code",
   "execution_count": null,
   "id": "b7d6e1ab",
   "metadata": {},
   "outputs": [],
   "source": [
    "def menu():\n",
    "    opcao = \"\"\n",
    "    \n",
    "    while opcao\n",
    "    "
   ]
  },
  {
   "cell_type": "markdown",
   "id": "8fd970b8",
   "metadata": {},
   "source": [
    "## Teste"
   ]
  },
  {
   "cell_type": "markdown",
   "id": "03c1c61c",
   "metadata": {},
   "source": [
    "#####################################################"
   ]
  },
  {
   "cell_type": "code",
   "execution_count": null,
   "id": "f839a645",
   "metadata": {},
   "outputs": [],
   "source": [
    "with open('cadastro.csv', 'r') as arquivo:\n",
    "    linhas = csv.reader(arquivo, delimiter = ';', lineterminator = '\\n')\n",
    "    for linha in linhas:\n",
    "        print(linha)"
   ]
  },
  {
   "cell_type": "code",
   "execution_count": null,
   "id": "0b2ae2b7",
   "metadata": {},
   "outputs": [],
   "source": [
    "import csv\n",
    "\n",
    "tabela = [['Aluno', 'Nota 1', 'Nota 2', 'Presenças'],\n",
    "          ['Luke', 7, 9, 15],\n",
    "          ['Han', 4, 7, 10],\n",
    "          ['Leia', 9, 9, 16]]\n",
    "\n",
    "# cria o arquivo CSV\n",
    "arquivo = open('alunos.csv', 'w')\n",
    "\n",
    "# definindo as regras do nosso CSV:\n",
    "# ele será escrito no arquivo apontado pela variável 'arquivo'\n",
    "# seus elementos serão delimitados (delimiter) pelo símbolo ';'\n",
    "# suas linhas serão encerradas (lineterminator) por uma quebra de linha\n",
    "escritor = csv.writer(arquivo, delimiter=';', lineterminator='\\n')\n",
    "\n",
    "# escreve uma lista de listas em formato CSV:\n",
    "escritor.writerows(tabela)\n",
    "\n",
    "# fecha e salva o arquivo\n",
    "arquivo.close()"
   ]
  },
  {
   "cell_type": "code",
   "execution_count": null,
   "id": "e1b847c5",
   "metadata": {},
   "outputs": [],
   "source": [
    "import csv\n",
    "\n",
    "arquivo = open('alunos.csv', 'r')\n",
    "\n",
    "planilha = csv.reader(arquivo, delimiter=';', lineterminator='\\n')\n",
    "\n",
    "for linha in planilha:\n",
    "\tprint(linha)\n",
    "\n",
    "arquivo.close()"
   ]
  },
  {
   "cell_type": "markdown",
   "id": "81366371",
   "metadata": {},
   "source": [
    "#####################################################"
   ]
  },
  {
   "cell_type": "code",
   "execution_count": null,
   "id": "1ecf07ec",
   "metadata": {},
   "outputs": [],
   "source": [
    "'.....________@@@@@@@@@@@@@@@'.replace(\"@\", 'a').replace('.', 'a').replace(\"_\", 'a').isalnum()"
   ]
  },
  {
   "cell_type": "code",
   "execution_count": null,
   "id": "40e070a6",
   "metadata": {},
   "outputs": [],
   "source": [
    "'thalles rafael'.title()"
   ]
  },
  {
   "cell_type": "code",
   "execution_count": 44,
   "id": "96f020d0",
   "metadata": {},
   "outputs": [
    {
     "data": {
      "text/plain": [
       "\"['oi', 'tchau', 'for']\""
      ]
     },
     "execution_count": 44,
     "metadata": {},
     "output_type": "execute_result"
    }
   ],
   "source": [
    "str(['oi', 'tchau', 'for'])"
   ]
  },
  {
   "cell_type": "code",
   "execution_count": null,
   "id": "c793da51",
   "metadata": {},
   "outputs": [],
   "source": []
  }
 ],
 "metadata": {
  "kernelspec": {
   "display_name": "Python 3 (ipykernel)",
   "language": "python",
   "name": "python3"
  },
  "language_info": {
   "codemirror_mode": {
    "name": "ipython",
    "version": 3
   },
   "file_extension": ".py",
   "mimetype": "text/x-python",
   "name": "python",
   "nbconvert_exporter": "python",
   "pygments_lexer": "ipython3",
   "version": "3.9.7"
  }
 },
 "nbformat": 4,
 "nbformat_minor": 5
}
